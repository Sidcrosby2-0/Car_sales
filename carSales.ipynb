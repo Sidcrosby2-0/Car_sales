{
 "cells": [
  {
   "cell_type": "markdown",
   "id": "cebba1f9",
   "metadata": {},
   "source": [
    "## Анализ рынка автомобилей"
   ]
  },
  {
   "cell_type": "markdown",
   "id": "4075a7ca",
   "metadata": {},
   "source": [
    "В данном проекте рассмотрим данные из тренировочного датасета \"Car sales\", взятого с Kaggle, который содержит информацию о продажах различных марок и моделей автомобилей на рынке США (период неизвестен) и попытаемся определить влияние различных характеристик на количество продаж."
   ]
  },
  {
   "cell_type": "code",
   "execution_count": 1,
   "id": "bf98a84b",
   "metadata": {},
   "outputs": [],
   "source": [
    "import pandas as pd\n",
    "import numpy as np\n",
    "import scipy.stats as stats\n",
    "import warnings\n",
    "from sympy import symbols, IndexedBase, Idx\n",
    "import seaborn as sns\n",
    "import matplotlib.pyplot as plt\n",
    "warnings.filterwarnings('ignore')"
   ]
  },
  {
   "cell_type": "code",
   "execution_count": 2,
   "id": "146e1aec",
   "metadata": {},
   "outputs": [
    {
     "data": {
      "text/html": [
       "<div>\n",
       "<style scoped>\n",
       "    .dataframe tbody tr th:only-of-type {\n",
       "        vertical-align: middle;\n",
       "    }\n",
       "\n",
       "    .dataframe tbody tr th {\n",
       "        vertical-align: top;\n",
       "    }\n",
       "\n",
       "    .dataframe thead th {\n",
       "        text-align: right;\n",
       "    }\n",
       "</style>\n",
       "<table border=\"1\" class=\"dataframe\">\n",
       "  <thead>\n",
       "    <tr style=\"text-align: right;\">\n",
       "      <th></th>\n",
       "      <th>Manufacturer</th>\n",
       "      <th>Model</th>\n",
       "      <th>Sales_in_thousands</th>\n",
       "      <th>__year_resale_value</th>\n",
       "      <th>Vehicle_type</th>\n",
       "      <th>Price_in_thousands</th>\n",
       "      <th>Engine_size</th>\n",
       "      <th>Horsepower</th>\n",
       "      <th>Wheelbase</th>\n",
       "      <th>Width</th>\n",
       "      <th>Length</th>\n",
       "      <th>Curb_weight</th>\n",
       "      <th>Fuel_capacity</th>\n",
       "      <th>Fuel_efficiency</th>\n",
       "      <th>Latest_Launch</th>\n",
       "      <th>Power_perf_factor</th>\n",
       "    </tr>\n",
       "  </thead>\n",
       "  <tbody>\n",
       "    <tr>\n",
       "      <th>0</th>\n",
       "      <td>Acura</td>\n",
       "      <td>Integra</td>\n",
       "      <td>16.919</td>\n",
       "      <td>16.360</td>\n",
       "      <td>Passenger</td>\n",
       "      <td>21.50</td>\n",
       "      <td>1.8</td>\n",
       "      <td>140.0</td>\n",
       "      <td>101.2</td>\n",
       "      <td>67.3</td>\n",
       "      <td>172.4</td>\n",
       "      <td>2.639</td>\n",
       "      <td>13.2</td>\n",
       "      <td>28.0</td>\n",
       "      <td>2/2/2012</td>\n",
       "      <td>58.280150</td>\n",
       "    </tr>\n",
       "    <tr>\n",
       "      <th>1</th>\n",
       "      <td>Acura</td>\n",
       "      <td>TL</td>\n",
       "      <td>39.384</td>\n",
       "      <td>19.875</td>\n",
       "      <td>Passenger</td>\n",
       "      <td>28.40</td>\n",
       "      <td>3.2</td>\n",
       "      <td>225.0</td>\n",
       "      <td>108.1</td>\n",
       "      <td>70.3</td>\n",
       "      <td>192.9</td>\n",
       "      <td>3.517</td>\n",
       "      <td>17.2</td>\n",
       "      <td>25.0</td>\n",
       "      <td>6/3/2011</td>\n",
       "      <td>91.370778</td>\n",
       "    </tr>\n",
       "    <tr>\n",
       "      <th>2</th>\n",
       "      <td>Acura</td>\n",
       "      <td>CL</td>\n",
       "      <td>14.114</td>\n",
       "      <td>18.225</td>\n",
       "      <td>Passenger</td>\n",
       "      <td>NaN</td>\n",
       "      <td>3.2</td>\n",
       "      <td>225.0</td>\n",
       "      <td>106.9</td>\n",
       "      <td>70.6</td>\n",
       "      <td>192.0</td>\n",
       "      <td>3.470</td>\n",
       "      <td>17.2</td>\n",
       "      <td>26.0</td>\n",
       "      <td>1/4/2012</td>\n",
       "      <td>NaN</td>\n",
       "    </tr>\n",
       "    <tr>\n",
       "      <th>3</th>\n",
       "      <td>Acura</td>\n",
       "      <td>RL</td>\n",
       "      <td>8.588</td>\n",
       "      <td>29.725</td>\n",
       "      <td>Passenger</td>\n",
       "      <td>42.00</td>\n",
       "      <td>3.5</td>\n",
       "      <td>210.0</td>\n",
       "      <td>114.6</td>\n",
       "      <td>71.4</td>\n",
       "      <td>196.6</td>\n",
       "      <td>3.850</td>\n",
       "      <td>18.0</td>\n",
       "      <td>22.0</td>\n",
       "      <td>3/10/2011</td>\n",
       "      <td>91.389779</td>\n",
       "    </tr>\n",
       "    <tr>\n",
       "      <th>4</th>\n",
       "      <td>Audi</td>\n",
       "      <td>A4</td>\n",
       "      <td>20.397</td>\n",
       "      <td>22.255</td>\n",
       "      <td>Passenger</td>\n",
       "      <td>23.99</td>\n",
       "      <td>1.8</td>\n",
       "      <td>150.0</td>\n",
       "      <td>102.6</td>\n",
       "      <td>68.2</td>\n",
       "      <td>178.0</td>\n",
       "      <td>2.998</td>\n",
       "      <td>16.4</td>\n",
       "      <td>27.0</td>\n",
       "      <td>10/8/2011</td>\n",
       "      <td>62.777639</td>\n",
       "    </tr>\n",
       "  </tbody>\n",
       "</table>\n",
       "</div>"
      ],
      "text/plain": [
       "  Manufacturer    Model  Sales_in_thousands  __year_resale_value Vehicle_type  \\\n",
       "0        Acura  Integra              16.919               16.360    Passenger   \n",
       "1        Acura       TL              39.384               19.875    Passenger   \n",
       "2        Acura       CL              14.114               18.225    Passenger   \n",
       "3        Acura       RL               8.588               29.725    Passenger   \n",
       "4         Audi       A4              20.397               22.255    Passenger   \n",
       "\n",
       "   Price_in_thousands  Engine_size  Horsepower  Wheelbase  Width  Length  \\\n",
       "0               21.50          1.8       140.0      101.2   67.3   172.4   \n",
       "1               28.40          3.2       225.0      108.1   70.3   192.9   \n",
       "2                 NaN          3.2       225.0      106.9   70.6   192.0   \n",
       "3               42.00          3.5       210.0      114.6   71.4   196.6   \n",
       "4               23.99          1.8       150.0      102.6   68.2   178.0   \n",
       "\n",
       "   Curb_weight  Fuel_capacity  Fuel_efficiency Latest_Launch  \\\n",
       "0        2.639           13.2             28.0      2/2/2012   \n",
       "1        3.517           17.2             25.0      6/3/2011   \n",
       "2        3.470           17.2             26.0      1/4/2012   \n",
       "3        3.850           18.0             22.0     3/10/2011   \n",
       "4        2.998           16.4             27.0     10/8/2011   \n",
       "\n",
       "   Power_perf_factor  \n",
       "0          58.280150  \n",
       "1          91.370778  \n",
       "2                NaN  \n",
       "3          91.389779  \n",
       "4          62.777639  "
      ]
     },
     "execution_count": 2,
     "metadata": {},
     "output_type": "execute_result"
    }
   ],
   "source": [
    "df = pd.read_csv('Car_sales.csv')\n",
    "df.head()"
   ]
  },
  {
   "cell_type": "code",
   "execution_count": 3,
   "id": "911aaa13",
   "metadata": {},
   "outputs": [
    {
     "data": {
      "text/plain": [
       "(157, 16)"
      ]
     },
     "execution_count": 3,
     "metadata": {},
     "output_type": "execute_result"
    }
   ],
   "source": [
    "df.shape"
   ]
  },
  {
   "cell_type": "markdown",
   "id": "01531f70",
   "metadata": {},
   "source": [
    "В датафрейме имеются 157 записей в 11 столбцах.\n",
    "Посмотрим, какая информация указана в столбцах:"
   ]
  },
  {
   "cell_type": "code",
   "execution_count": 4,
   "id": "0f0caa9a",
   "metadata": {},
   "outputs": [
    {
     "name": "stdout",
     "output_type": "stream",
     "text": [
      "<class 'pandas.core.frame.DataFrame'>\n",
      "RangeIndex: 157 entries, 0 to 156\n",
      "Data columns (total 16 columns):\n",
      " #   Column               Non-Null Count  Dtype  \n",
      "---  ------               --------------  -----  \n",
      " 0   Manufacturer         157 non-null    object \n",
      " 1   Model                157 non-null    object \n",
      " 2   Sales_in_thousands   157 non-null    float64\n",
      " 3   __year_resale_value  121 non-null    float64\n",
      " 4   Vehicle_type         157 non-null    object \n",
      " 5   Price_in_thousands   155 non-null    float64\n",
      " 6   Engine_size          156 non-null    float64\n",
      " 7   Horsepower           156 non-null    float64\n",
      " 8   Wheelbase            156 non-null    float64\n",
      " 9   Width                156 non-null    float64\n",
      " 10  Length               156 non-null    float64\n",
      " 11  Curb_weight          155 non-null    float64\n",
      " 12  Fuel_capacity        156 non-null    float64\n",
      " 13  Fuel_efficiency      154 non-null    float64\n",
      " 14  Latest_Launch        157 non-null    object \n",
      " 15  Power_perf_factor    155 non-null    float64\n",
      "dtypes: float64(12), object(4)\n",
      "memory usage: 19.8+ KB\n"
     ]
    }
   ],
   "source": [
    "df.info()"
   ]
  },
  {
   "cell_type": "markdown",
   "id": "348e6855",
   "metadata": {},
   "source": [
    "0   Manufacturer - Производитель<br>\n",
    "1   Model - Модель автомобиля<br>\n",
    "2   Sales_in_thousands - количество проданных автомобилей в тыс. шт.<br>\n",
    "3   __year_resale_value - остаточная стоимость через 5 лет<br>\n",
    "4   Vehicle_type - тип автомобиля<br>\n",
    "5   Price_in_thousands - цена в тыс. $<br>\n",
    "6   Engine_size - Объём двигателя<br>\n",
    "7   Horsepower - мощность в л.с.<br>\n",
    "8   Wheelbase - длина колёсной базы в дюймах<br>\n",
    "9   Width - ширина автомобиля в дюймах<br>\n",
    "10  Length - длина автомобиля в дюймах<br>\n",
    "11  Curb_weight - снаряжённая масса автомобиля в тыс. фунтов<br>\n",
    "12  Fuel_capacity - объём топливного бака в галлонах<br>\n",
    "13  Fuel_efficiency - топливная эффективность в миллях на галлон<br>\n",
    "14  Latest_Launch - дата окончания выпуска автомобиля<br>\n",
    "15  Power_perf_factor - коэффициент производительности двигателя"
   ]
  },
  {
   "cell_type": "markdown",
   "id": "fc163eef",
   "metadata": {},
   "source": [
    "Удалим столбцы, которые для дальнейшего анализа не пригодятся, а именно информацию о размерах и массе автомобиля, объём топливного бака, дату окончания выпуска и коэффициент производительности двигателя. А так же проверим, какая информация содержится в столбце \"Vehicle_type\":"
   ]
  },
  {
   "cell_type": "code",
   "execution_count": 5,
   "id": "7822e265",
   "metadata": {},
   "outputs": [
    {
     "data": {
      "text/plain": [
       "array(['Passenger', 'Car'], dtype=object)"
      ]
     },
     "execution_count": 5,
     "metadata": {},
     "output_type": "execute_result"
    }
   ],
   "source": [
    "df['Vehicle_type'].unique()"
   ]
  },
  {
   "cell_type": "code",
   "execution_count": 6,
   "id": "9ccbbe60",
   "metadata": {},
   "outputs": [
    {
     "data": {
      "text/html": [
       "<div>\n",
       "<style scoped>\n",
       "    .dataframe tbody tr th:only-of-type {\n",
       "        vertical-align: middle;\n",
       "    }\n",
       "\n",
       "    .dataframe tbody tr th {\n",
       "        vertical-align: top;\n",
       "    }\n",
       "\n",
       "    .dataframe thead th {\n",
       "        text-align: right;\n",
       "    }\n",
       "</style>\n",
       "<table border=\"1\" class=\"dataframe\">\n",
       "  <thead>\n",
       "    <tr style=\"text-align: right;\">\n",
       "      <th></th>\n",
       "      <th>Manufacturer</th>\n",
       "      <th>Model</th>\n",
       "      <th>Sales_in_thousands</th>\n",
       "      <th>__year_resale_value</th>\n",
       "      <th>Vehicle_type</th>\n",
       "      <th>Price_in_thousands</th>\n",
       "      <th>Engine_size</th>\n",
       "      <th>Horsepower</th>\n",
       "      <th>Wheelbase</th>\n",
       "      <th>Width</th>\n",
       "      <th>Length</th>\n",
       "      <th>Curb_weight</th>\n",
       "      <th>Fuel_capacity</th>\n",
       "      <th>Fuel_efficiency</th>\n",
       "      <th>Latest_Launch</th>\n",
       "      <th>Power_perf_factor</th>\n",
       "    </tr>\n",
       "  </thead>\n",
       "  <tbody>\n",
       "    <tr>\n",
       "      <th>152</th>\n",
       "      <td>Volvo</td>\n",
       "      <td>V40</td>\n",
       "      <td>3.545</td>\n",
       "      <td>NaN</td>\n",
       "      <td>Passenger</td>\n",
       "      <td>24.4</td>\n",
       "      <td>1.9</td>\n",
       "      <td>160.0</td>\n",
       "      <td>100.5</td>\n",
       "      <td>67.6</td>\n",
       "      <td>176.6</td>\n",
       "      <td>3.042</td>\n",
       "      <td>15.8</td>\n",
       "      <td>25.0</td>\n",
       "      <td>9/21/2011</td>\n",
       "      <td>66.498812</td>\n",
       "    </tr>\n",
       "    <tr>\n",
       "      <th>153</th>\n",
       "      <td>Volvo</td>\n",
       "      <td>S70</td>\n",
       "      <td>15.245</td>\n",
       "      <td>NaN</td>\n",
       "      <td>Passenger</td>\n",
       "      <td>27.5</td>\n",
       "      <td>2.4</td>\n",
       "      <td>168.0</td>\n",
       "      <td>104.9</td>\n",
       "      <td>69.3</td>\n",
       "      <td>185.9</td>\n",
       "      <td>3.208</td>\n",
       "      <td>17.9</td>\n",
       "      <td>25.0</td>\n",
       "      <td>11/24/2012</td>\n",
       "      <td>70.654495</td>\n",
       "    </tr>\n",
       "    <tr>\n",
       "      <th>154</th>\n",
       "      <td>Volvo</td>\n",
       "      <td>V70</td>\n",
       "      <td>17.531</td>\n",
       "      <td>NaN</td>\n",
       "      <td>Passenger</td>\n",
       "      <td>28.8</td>\n",
       "      <td>2.4</td>\n",
       "      <td>168.0</td>\n",
       "      <td>104.9</td>\n",
       "      <td>69.3</td>\n",
       "      <td>186.2</td>\n",
       "      <td>3.259</td>\n",
       "      <td>17.9</td>\n",
       "      <td>25.0</td>\n",
       "      <td>6/25/2011</td>\n",
       "      <td>71.155978</td>\n",
       "    </tr>\n",
       "    <tr>\n",
       "      <th>155</th>\n",
       "      <td>Volvo</td>\n",
       "      <td>C70</td>\n",
       "      <td>3.493</td>\n",
       "      <td>NaN</td>\n",
       "      <td>Passenger</td>\n",
       "      <td>45.5</td>\n",
       "      <td>2.3</td>\n",
       "      <td>236.0</td>\n",
       "      <td>104.9</td>\n",
       "      <td>71.5</td>\n",
       "      <td>185.7</td>\n",
       "      <td>3.601</td>\n",
       "      <td>18.5</td>\n",
       "      <td>23.0</td>\n",
       "      <td>4/26/2011</td>\n",
       "      <td>101.623357</td>\n",
       "    </tr>\n",
       "    <tr>\n",
       "      <th>156</th>\n",
       "      <td>Volvo</td>\n",
       "      <td>S80</td>\n",
       "      <td>18.969</td>\n",
       "      <td>NaN</td>\n",
       "      <td>Passenger</td>\n",
       "      <td>36.0</td>\n",
       "      <td>2.9</td>\n",
       "      <td>201.0</td>\n",
       "      <td>109.9</td>\n",
       "      <td>72.1</td>\n",
       "      <td>189.8</td>\n",
       "      <td>3.600</td>\n",
       "      <td>21.1</td>\n",
       "      <td>24.0</td>\n",
       "      <td>11/14/2011</td>\n",
       "      <td>85.735655</td>\n",
       "    </tr>\n",
       "  </tbody>\n",
       "</table>\n",
       "</div>"
      ],
      "text/plain": [
       "    Manufacturer Model  Sales_in_thousands  __year_resale_value Vehicle_type  \\\n",
       "152        Volvo   V40               3.545                  NaN    Passenger   \n",
       "153        Volvo   S70              15.245                  NaN    Passenger   \n",
       "154        Volvo   V70              17.531                  NaN    Passenger   \n",
       "155        Volvo   C70               3.493                  NaN    Passenger   \n",
       "156        Volvo   S80              18.969                  NaN    Passenger   \n",
       "\n",
       "     Price_in_thousands  Engine_size  Horsepower  Wheelbase  Width  Length  \\\n",
       "152                24.4          1.9       160.0      100.5   67.6   176.6   \n",
       "153                27.5          2.4       168.0      104.9   69.3   185.9   \n",
       "154                28.8          2.4       168.0      104.9   69.3   186.2   \n",
       "155                45.5          2.3       236.0      104.9   71.5   185.7   \n",
       "156                36.0          2.9       201.0      109.9   72.1   189.8   \n",
       "\n",
       "     Curb_weight  Fuel_capacity  Fuel_efficiency Latest_Launch  \\\n",
       "152        3.042           15.8             25.0     9/21/2011   \n",
       "153        3.208           17.9             25.0    11/24/2012   \n",
       "154        3.259           17.9             25.0     6/25/2011   \n",
       "155        3.601           18.5             23.0     4/26/2011   \n",
       "156        3.600           21.1             24.0    11/14/2011   \n",
       "\n",
       "     Power_perf_factor  \n",
       "152          66.498812  \n",
       "153          70.654495  \n",
       "154          71.155978  \n",
       "155         101.623357  \n",
       "156          85.735655  "
      ]
     },
     "execution_count": 6,
     "metadata": {},
     "output_type": "execute_result"
    }
   ],
   "source": [
    "df[df['Vehicle_type'] == 'Passenger'].tail()"
   ]
  },
  {
   "cell_type": "code",
   "execution_count": 7,
   "id": "ca4407f5",
   "metadata": {},
   "outputs": [
    {
     "data": {
      "text/html": [
       "<div>\n",
       "<style scoped>\n",
       "    .dataframe tbody tr th:only-of-type {\n",
       "        vertical-align: middle;\n",
       "    }\n",
       "\n",
       "    .dataframe tbody tr th {\n",
       "        vertical-align: top;\n",
       "    }\n",
       "\n",
       "    .dataframe thead th {\n",
       "        text-align: right;\n",
       "    }\n",
       "</style>\n",
       "<table border=\"1\" class=\"dataframe\">\n",
       "  <thead>\n",
       "    <tr style=\"text-align: right;\">\n",
       "      <th></th>\n",
       "      <th>Manufacturer</th>\n",
       "      <th>Model</th>\n",
       "      <th>Sales_in_thousands</th>\n",
       "      <th>__year_resale_value</th>\n",
       "      <th>Vehicle_type</th>\n",
       "      <th>Price_in_thousands</th>\n",
       "      <th>Engine_size</th>\n",
       "      <th>Horsepower</th>\n",
       "      <th>Wheelbase</th>\n",
       "      <th>Width</th>\n",
       "      <th>Length</th>\n",
       "      <th>Curb_weight</th>\n",
       "      <th>Fuel_capacity</th>\n",
       "      <th>Fuel_efficiency</th>\n",
       "      <th>Latest_Launch</th>\n",
       "      <th>Power_perf_factor</th>\n",
       "    </tr>\n",
       "  </thead>\n",
       "  <tbody>\n",
       "    <tr>\n",
       "      <th>140</th>\n",
       "      <td>Toyota</td>\n",
       "      <td>Tacoma</td>\n",
       "      <td>84.087</td>\n",
       "      <td>9.575</td>\n",
       "      <td>Car</td>\n",
       "      <td>11.528</td>\n",
       "      <td>2.4</td>\n",
       "      <td>142.0</td>\n",
       "      <td>103.3</td>\n",
       "      <td>66.5</td>\n",
       "      <td>178.7</td>\n",
       "      <td>2.580</td>\n",
       "      <td>15.1</td>\n",
       "      <td>23.0</td>\n",
       "      <td>8/1/2011</td>\n",
       "      <td>55.297117</td>\n",
       "    </tr>\n",
       "    <tr>\n",
       "      <th>141</th>\n",
       "      <td>Toyota</td>\n",
       "      <td>Sienna</td>\n",
       "      <td>65.119</td>\n",
       "      <td>NaN</td>\n",
       "      <td>Car</td>\n",
       "      <td>22.368</td>\n",
       "      <td>3.0</td>\n",
       "      <td>194.0</td>\n",
       "      <td>114.2</td>\n",
       "      <td>73.4</td>\n",
       "      <td>193.5</td>\n",
       "      <td>3.759</td>\n",
       "      <td>20.9</td>\n",
       "      <td>22.0</td>\n",
       "      <td>10/5/2012</td>\n",
       "      <td>78.027219</td>\n",
       "    </tr>\n",
       "    <tr>\n",
       "      <th>142</th>\n",
       "      <td>Toyota</td>\n",
       "      <td>RAV4</td>\n",
       "      <td>25.106</td>\n",
       "      <td>13.325</td>\n",
       "      <td>Car</td>\n",
       "      <td>16.888</td>\n",
       "      <td>2.0</td>\n",
       "      <td>127.0</td>\n",
       "      <td>94.9</td>\n",
       "      <td>66.7</td>\n",
       "      <td>163.8</td>\n",
       "      <td>2.668</td>\n",
       "      <td>15.3</td>\n",
       "      <td>27.0</td>\n",
       "      <td>5/6/2011</td>\n",
       "      <td>51.955109</td>\n",
       "    </tr>\n",
       "    <tr>\n",
       "      <th>143</th>\n",
       "      <td>Toyota</td>\n",
       "      <td>4Runner</td>\n",
       "      <td>68.411</td>\n",
       "      <td>19.425</td>\n",
       "      <td>Car</td>\n",
       "      <td>22.288</td>\n",
       "      <td>2.7</td>\n",
       "      <td>150.0</td>\n",
       "      <td>105.3</td>\n",
       "      <td>66.5</td>\n",
       "      <td>183.3</td>\n",
       "      <td>3.440</td>\n",
       "      <td>18.5</td>\n",
       "      <td>23.0</td>\n",
       "      <td>3/7/2011</td>\n",
       "      <td>62.355577</td>\n",
       "    </tr>\n",
       "    <tr>\n",
       "      <th>144</th>\n",
       "      <td>Toyota</td>\n",
       "      <td>Land Cruiser</td>\n",
       "      <td>9.835</td>\n",
       "      <td>34.080</td>\n",
       "      <td>Car</td>\n",
       "      <td>51.728</td>\n",
       "      <td>4.7</td>\n",
       "      <td>230.0</td>\n",
       "      <td>112.2</td>\n",
       "      <td>76.4</td>\n",
       "      <td>192.5</td>\n",
       "      <td>5.115</td>\n",
       "      <td>25.4</td>\n",
       "      <td>15.0</td>\n",
       "      <td>9/25/2011</td>\n",
       "      <td>102.528984</td>\n",
       "    </tr>\n",
       "  </tbody>\n",
       "</table>\n",
       "</div>"
      ],
      "text/plain": [
       "    Manufacturer         Model  Sales_in_thousands  __year_resale_value  \\\n",
       "140       Toyota        Tacoma              84.087                9.575   \n",
       "141       Toyota        Sienna              65.119                  NaN   \n",
       "142       Toyota          RAV4              25.106               13.325   \n",
       "143       Toyota       4Runner              68.411               19.425   \n",
       "144       Toyota  Land Cruiser               9.835               34.080   \n",
       "\n",
       "    Vehicle_type  Price_in_thousands  Engine_size  Horsepower  Wheelbase  \\\n",
       "140          Car              11.528          2.4       142.0      103.3   \n",
       "141          Car              22.368          3.0       194.0      114.2   \n",
       "142          Car              16.888          2.0       127.0       94.9   \n",
       "143          Car              22.288          2.7       150.0      105.3   \n",
       "144          Car              51.728          4.7       230.0      112.2   \n",
       "\n",
       "     Width  Length  Curb_weight  Fuel_capacity  Fuel_efficiency Latest_Launch  \\\n",
       "140   66.5   178.7        2.580           15.1             23.0      8/1/2011   \n",
       "141   73.4   193.5        3.759           20.9             22.0     10/5/2012   \n",
       "142   66.7   163.8        2.668           15.3             27.0      5/6/2011   \n",
       "143   66.5   183.3        3.440           18.5             23.0      3/7/2011   \n",
       "144   76.4   192.5        5.115           25.4             15.0     9/25/2011   \n",
       "\n",
       "     Power_perf_factor  \n",
       "140          55.297117  \n",
       "141          78.027219  \n",
       "142          51.955109  \n",
       "143          62.355577  \n",
       "144         102.528984  "
      ]
     },
     "execution_count": 7,
     "metadata": {},
     "output_type": "execute_result"
    }
   ],
   "source": [
    "df[df['Vehicle_type'] == 'Car'].tail()"
   ]
  },
  {
   "cell_type": "markdown",
   "id": "3327291d",
   "metadata": {},
   "source": [
    "Как мы видим, в столбце \"Vehicle_type\" присутствует всего два типа - 'Car' и ' Passenger', которые не несут в себе особо важной информации, поэтому данный столбец тоже удаляем."
   ]
  },
  {
   "cell_type": "code",
   "execution_count": 8,
   "id": "16bcf807",
   "metadata": {},
   "outputs": [],
   "source": [
    "df = df.drop(['Vehicle_type', 'Wheelbase', 'Width', 'Length', 'Curb_weight', 'Fuel_capacity', 'Power_perf_factor', 'Latest_Launch'], axis=1)"
   ]
  },
  {
   "cell_type": "markdown",
   "id": "645846aa",
   "metadata": {},
   "source": [
    "Далее необходимо проверить столбцы на отсутствие значений:"
   ]
  },
  {
   "cell_type": "code",
   "execution_count": 9,
   "id": "f584313f",
   "metadata": {},
   "outputs": [
    {
     "data": {
      "text/plain": [
       "Manufacturer            0\n",
       "Model                   0\n",
       "Sales_in_thousands      0\n",
       "__year_resale_value    36\n",
       "Price_in_thousands      2\n",
       "Engine_size             1\n",
       "Horsepower              1\n",
       "Fuel_efficiency         3\n",
       "dtype: int64"
      ]
     },
     "execution_count": 9,
     "metadata": {},
     "output_type": "execute_result"
    }
   ],
   "source": [
    "df.isnull().sum()"
   ]
  },
  {
   "cell_type": "markdown",
   "id": "137bc466",
   "metadata": {},
   "source": [
    "Пропущенные значения в большом количестве имеются в столбце \"остаточная стоимость\". Подставим вместо них среднее значение по столбцу. Пропущенных значений в столбцах \"Объём двигателя\", \"Мощность\", \"Цена\" немного, поэтому подставим их вручную, а показатель \"Топливная эффективность\" расчитаем."
   ]
  },
  {
   "cell_type": "code",
   "execution_count": 10,
   "id": "0d2060ca",
   "metadata": {},
   "outputs": [],
   "source": [
    "df['__year_resale_value'] = df['__year_resale_value'].fillna(df['__year_resale_value'].mean())"
   ]
  },
  {
   "cell_type": "code",
   "execution_count": 11,
   "id": "28b283ff",
   "metadata": {},
   "outputs": [
    {
     "data": {
      "text/html": [
       "<div>\n",
       "<style scoped>\n",
       "    .dataframe tbody tr th:only-of-type {\n",
       "        vertical-align: middle;\n",
       "    }\n",
       "\n",
       "    .dataframe tbody tr th {\n",
       "        vertical-align: top;\n",
       "    }\n",
       "\n",
       "    .dataframe thead th {\n",
       "        text-align: right;\n",
       "    }\n",
       "</style>\n",
       "<table border=\"1\" class=\"dataframe\">\n",
       "  <thead>\n",
       "    <tr style=\"text-align: right;\">\n",
       "      <th></th>\n",
       "      <th>Manufacturer</th>\n",
       "      <th>Model</th>\n",
       "      <th>Sales_in_thousands</th>\n",
       "      <th>__year_resale_value</th>\n",
       "      <th>Price_in_thousands</th>\n",
       "      <th>Engine_size</th>\n",
       "      <th>Horsepower</th>\n",
       "      <th>Fuel_efficiency</th>\n",
       "    </tr>\n",
       "  </thead>\n",
       "  <tbody>\n",
       "    <tr>\n",
       "      <th>2</th>\n",
       "      <td>Acura</td>\n",
       "      <td>CL</td>\n",
       "      <td>14.114</td>\n",
       "      <td>18.225</td>\n",
       "      <td>NaN</td>\n",
       "      <td>3.2</td>\n",
       "      <td>225.0</td>\n",
       "      <td>26.0</td>\n",
       "    </tr>\n",
       "    <tr>\n",
       "      <th>33</th>\n",
       "      <td>Chrysler</td>\n",
       "      <td>Town &amp; Country</td>\n",
       "      <td>53.480</td>\n",
       "      <td>19.540</td>\n",
       "      <td>NaN</td>\n",
       "      <td>NaN</td>\n",
       "      <td>NaN</td>\n",
       "      <td>NaN</td>\n",
       "    </tr>\n",
       "  </tbody>\n",
       "</table>\n",
       "</div>"
      ],
      "text/plain": [
       "   Manufacturer           Model  Sales_in_thousands  __year_resale_value  \\\n",
       "2         Acura              CL              14.114               18.225   \n",
       "33     Chrysler  Town & Country              53.480               19.540   \n",
       "\n",
       "    Price_in_thousands  Engine_size  Horsepower  Fuel_efficiency  \n",
       "2                  NaN          3.2       225.0             26.0  \n",
       "33                 NaN          NaN         NaN              NaN  "
      ]
     },
     "execution_count": 11,
     "metadata": {},
     "output_type": "execute_result"
    }
   ],
   "source": [
    "# Проверяем, в каких строках нет данных о цене\n",
    "df[df['Price_in_thousands'].isnull()]"
   ]
  },
  {
   "cell_type": "code",
   "execution_count": 12,
   "id": "3994940d",
   "metadata": {},
   "outputs": [],
   "source": [
    "# Подставляем значения цены, взятые из интернета\n",
    "df['Price_in_thousands'][2] = 11.363\n",
    "df['Price_in_thousands'][33] = 12.163"
   ]
  },
  {
   "cell_type": "code",
   "execution_count": 13,
   "id": "b5317fd4",
   "metadata": {},
   "outputs": [
    {
     "data": {
      "text/html": [
       "<div>\n",
       "<style scoped>\n",
       "    .dataframe tbody tr th:only-of-type {\n",
       "        vertical-align: middle;\n",
       "    }\n",
       "\n",
       "    .dataframe tbody tr th {\n",
       "        vertical-align: top;\n",
       "    }\n",
       "\n",
       "    .dataframe thead th {\n",
       "        text-align: right;\n",
       "    }\n",
       "</style>\n",
       "<table border=\"1\" class=\"dataframe\">\n",
       "  <thead>\n",
       "    <tr style=\"text-align: right;\">\n",
       "      <th></th>\n",
       "      <th>Manufacturer</th>\n",
       "      <th>Model</th>\n",
       "      <th>Sales_in_thousands</th>\n",
       "      <th>__year_resale_value</th>\n",
       "      <th>Price_in_thousands</th>\n",
       "      <th>Engine_size</th>\n",
       "      <th>Horsepower</th>\n",
       "      <th>Fuel_efficiency</th>\n",
       "    </tr>\n",
       "  </thead>\n",
       "  <tbody>\n",
       "    <tr>\n",
       "      <th>33</th>\n",
       "      <td>Chrysler</td>\n",
       "      <td>Town &amp; Country</td>\n",
       "      <td>53.48</td>\n",
       "      <td>19.54</td>\n",
       "      <td>12.163</td>\n",
       "      <td>NaN</td>\n",
       "      <td>NaN</td>\n",
       "      <td>NaN</td>\n",
       "    </tr>\n",
       "  </tbody>\n",
       "</table>\n",
       "</div>"
      ],
      "text/plain": [
       "   Manufacturer           Model  Sales_in_thousands  __year_resale_value  \\\n",
       "33     Chrysler  Town & Country               53.48                19.54   \n",
       "\n",
       "    Price_in_thousands  Engine_size  Horsepower  Fuel_efficiency  \n",
       "33              12.163          NaN         NaN              NaN  "
      ]
     },
     "execution_count": 13,
     "metadata": {},
     "output_type": "execute_result"
    }
   ],
   "source": [
    "# Проверяем, в каких строках не указан объём двигателя\n",
    "df[df['Engine_size'].isnull()]"
   ]
  },
  {
   "cell_type": "code",
   "execution_count": 14,
   "id": "4266acfa",
   "metadata": {},
   "outputs": [],
   "source": [
    "# Подставляем значения объёма ДВС и его мощности\n",
    "df['Engine_size'][33] = 3.3\n",
    "df['Horsepower'][33] = 150"
   ]
  },
  {
   "cell_type": "code",
   "execution_count": 15,
   "id": "44238c6f",
   "metadata": {},
   "outputs": [],
   "source": [
    "fef = IndexedBase('Fef')\n",
    "hp = IndexedBase('Hp')\n",
    "mean, in_cell = symbols('cp cell', cls=Idx)"
   ]
  },
  {
   "cell_type": "markdown",
   "id": "c92d066b",
   "metadata": {},
   "source": [
    "Расчитаем показатель \"Топливная эффективность\" по формуле:"
   ]
  },
  {
   "cell_type": "code",
   "execution_count": 16,
   "id": "e2efd854",
   "metadata": {},
   "outputs": [
    {
     "data": {
      "text/latex": [
       "$\\displaystyle \\frac{{Fef}_{cp} {Hp}_{cell}}{{Hp}_{cp}}$"
      ],
      "text/plain": [
       "Fef[cp]*Hp[cell]/Hp[cp]"
      ]
     },
     "execution_count": 16,
     "metadata": {},
     "output_type": "execute_result"
    }
   ],
   "source": [
    "expr = (fef[mean]) * (hp[in_cell]) / hp[mean]\n",
    "expr"
   ]
  },
  {
   "cell_type": "code",
   "execution_count": 17,
   "id": "d0d6bab2",
   "metadata": {},
   "outputs": [
    {
     "data": {
      "text/html": [
       "<div>\n",
       "<style scoped>\n",
       "    .dataframe tbody tr th:only-of-type {\n",
       "        vertical-align: middle;\n",
       "    }\n",
       "\n",
       "    .dataframe tbody tr th {\n",
       "        vertical-align: top;\n",
       "    }\n",
       "\n",
       "    .dataframe thead th {\n",
       "        text-align: right;\n",
       "    }\n",
       "</style>\n",
       "<table border=\"1\" class=\"dataframe\">\n",
       "  <thead>\n",
       "    <tr style=\"text-align: right;\">\n",
       "      <th></th>\n",
       "      <th>Manufacturer</th>\n",
       "      <th>Model</th>\n",
       "      <th>Sales_in_thousands</th>\n",
       "      <th>__year_resale_value</th>\n",
       "      <th>Price_in_thousands</th>\n",
       "      <th>Engine_size</th>\n",
       "      <th>Horsepower</th>\n",
       "      <th>Fuel_efficiency</th>\n",
       "    </tr>\n",
       "  </thead>\n",
       "  <tbody>\n",
       "    <tr>\n",
       "      <th>33</th>\n",
       "      <td>Chrysler</td>\n",
       "      <td>Town &amp; Country</td>\n",
       "      <td>53.480</td>\n",
       "      <td>19.540000</td>\n",
       "      <td>12.163</td>\n",
       "      <td>3.3</td>\n",
       "      <td>150.0</td>\n",
       "      <td>NaN</td>\n",
       "    </tr>\n",
       "    <tr>\n",
       "      <th>38</th>\n",
       "      <td>Dodge</td>\n",
       "      <td>Intrepid</td>\n",
       "      <td>88.028</td>\n",
       "      <td>12.275000</td>\n",
       "      <td>22.505</td>\n",
       "      <td>2.7</td>\n",
       "      <td>202.0</td>\n",
       "      <td>NaN</td>\n",
       "    </tr>\n",
       "    <tr>\n",
       "      <th>109</th>\n",
       "      <td>Oldsmobile</td>\n",
       "      <td>Intrigue</td>\n",
       "      <td>38.554</td>\n",
       "      <td>18.072975</td>\n",
       "      <td>24.150</td>\n",
       "      <td>3.5</td>\n",
       "      <td>215.0</td>\n",
       "      <td>NaN</td>\n",
       "    </tr>\n",
       "  </tbody>\n",
       "</table>\n",
       "</div>"
      ],
      "text/plain": [
       "    Manufacturer           Model  Sales_in_thousands  __year_resale_value  \\\n",
       "33      Chrysler  Town & Country              53.480            19.540000   \n",
       "38         Dodge        Intrepid              88.028            12.275000   \n",
       "109   Oldsmobile        Intrigue              38.554            18.072975   \n",
       "\n",
       "     Price_in_thousands  Engine_size  Horsepower  Fuel_efficiency  \n",
       "33               12.163          3.3       150.0              NaN  \n",
       "38               22.505          2.7       202.0              NaN  \n",
       "109              24.150          3.5       215.0              NaN  "
      ]
     },
     "execution_count": 17,
     "metadata": {},
     "output_type": "execute_result"
    }
   ],
   "source": [
    "# Проверяем, в каких строках показатель топливной эффективности Nan\n",
    "df[df['Fuel_efficiency'].isnull()]"
   ]
  },
  {
   "cell_type": "code",
   "execution_count": 18,
   "id": "2e98e1aa",
   "metadata": {},
   "outputs": [],
   "source": [
    "# Рассчитываем показатель\n",
    "for cell in (33, 38, 109):\n",
    "    df['Fuel_efficiency'][cell] = df['Fuel_efficiency'].mean() * df['Horsepower'][cell] / df['Horsepower'].mean()"
   ]
  },
  {
   "cell_type": "markdown",
   "id": "94740902",
   "metadata": {},
   "source": [
    "И наконец необходимо привести данные в таблице к международному стандарту. Пересчитаем топливную эффективность в расход топлива (л/100 км):"
   ]
  },
  {
   "cell_type": "code",
   "execution_count": 19,
   "id": "37d70612",
   "metadata": {},
   "outputs": [],
   "source": [
    "# перевод миль/гал в л/100*км\n",
    "df['Fuel_efficiency'] = 100 / (df['Fuel_efficiency'] * (1.609344 / 3.789411784))"
   ]
  },
  {
   "cell_type": "markdown",
   "id": "b465a86b",
   "metadata": {},
   "source": [
    "### Визуализация"
   ]
  },
  {
   "cell_type": "markdown",
   "id": "efe5d360",
   "metadata": {},
   "source": [
    "Посмотрим, какое суммарное количество различных моделей автомобилей продано по каждому производителю, а так же самые продаваемые модели."
   ]
  },
  {
   "cell_type": "code",
   "execution_count": 20,
   "id": "ba1e0f33",
   "metadata": {},
   "outputs": [],
   "source": [
    "sales = df.groupby('Manufacturer')['Sales_in_thousands'].sum() # группировка по производителям"
   ]
  },
  {
   "cell_type": "code",
   "execution_count": 21,
   "id": "35fd542b",
   "metadata": {},
   "outputs": [],
   "source": [
    "sales = sales.to_frame() # convert panda.series in frame"
   ]
  },
  {
   "cell_type": "code",
   "execution_count": 22,
   "id": "3f9f62d6",
   "metadata": {},
   "outputs": [],
   "source": [
    "sales.reset_index(inplace=True)"
   ]
  },
  {
   "cell_type": "code",
   "execution_count": 23,
   "id": "62432922",
   "metadata": {},
   "outputs": [
    {
     "data": {
      "image/png": "[encoded data removed]",
      "text/plain": [
       "<Figure size 640x480 with 1 Axes>"
      ]
     },
     "metadata": {},
     "output_type": "display_data"
    }
   ],
   "source": [
    "sns.barplot(x='Manufacturer',\n",
    "            y='Sales_in_thousands',\n",
    "            data=sales,\n",
    "            order=sales.sort_values('Sales_in_thousands').Manufacturer,\n",
    "            color='steelblue')\n",
    "plt.xlabel('Производитель', size=16)\n",
    "plt.ylabel('Продажи, тыс. шт.', size=16)\n",
    "plt.title('Продажи автомобилей по производителям', size=18, weight=800)\n",
    "plt.xticks(rotation=90)\n",
    "plt.show()"
   ]
  },
  {
   "cell_type": "code",
   "execution_count": 24,
   "id": "1d09e18d",
   "metadata": {},
   "outputs": [
    {
     "data": {
      "image/png": "[encoded data removed]",
      "text/plain": [
       "<Figure size 640x480 with 1 Axes>"
      ]
     },
     "metadata": {},
     "output_type": "display_data"
    }
   ],
   "source": [
    "sns.barplot(x='Model',\n",
    "            y='Sales_in_thousands',\n",
    "            data=df,\n",
    "            order=df.sort_values('Sales_in_thousands').Model[-10:],\n",
    "            color='steelblue')\n",
    "plt.xlabel('Модель', size=16)\n",
    "plt.ylabel('Продажи, тыс. шт.', size=16)\n",
    "plt.title('Самые продаваемые модели', size=18, weight=800)\n",
    "plt.xticks(rotation=90)\n",
    "plt.show()"
   ]
  },
  {
   "cell_type": "markdown",
   "id": "4b911b5c",
   "metadata": {},
   "source": [
    "Теперь проверим влияние на показатель продаж объёма двигателя и показателя топливной эффективности.<br>\n",
    "На последнем графике видно, что продажи самой популярной модели F-Series почти вдвое превышают продажи второй по популярности модели. Проверим, как распределён показатель продаж:"
   ]
  },
  {
   "cell_type": "code",
   "execution_count": 25,
   "id": "bdf8d30c",
   "metadata": {},
   "outputs": [
    {
     "data": {
      "text/plain": [
       "count    157.000000\n",
       "mean      52.998076\n",
       "std       68.029422\n",
       "min        0.110000\n",
       "25%       14.114000\n",
       "50%       29.450000\n",
       "75%       67.956000\n",
       "max      540.561000\n",
       "Name: Sales_in_thousands, dtype: float64"
      ]
     },
     "execution_count": 25,
     "metadata": {},
     "output_type": "execute_result"
    }
   ],
   "source": [
    "df['Sales_in_thousands'].describe()"
   ]
  },
  {
   "cell_type": "markdown",
   "id": "32439ba1",
   "metadata": {},
   "source": [
    "Третий квартиль составляет 67.956, а максимальный показатель равен 540,561.<br>\n",
    "Выведем показатели на графике."
   ]
  },
  {
   "cell_type": "code",
   "execution_count": 26,
   "id": "4442ca99",
   "metadata": {},
   "outputs": [
    {
     "data": {
      "text/plain": [
       "<Axes: ylabel='Sales_in_thousands'>"
      ]
     },
     "execution_count": 26,
     "metadata": {},
     "output_type": "execute_result"
    },
    {
     "data": {
      "image/png": "[encoded data removed]",
      "text/plain": [
       "<Figure size 640x480 with 1 Axes>"
      ]
     },
     "metadata": {},
     "output_type": "display_data"
    }
   ],
   "source": [
    "sns.boxplot(y='Sales_in_thousands', data=df)"
   ]
  },
  {
   "cell_type": "markdown",
   "id": "ea5709a7",
   "metadata": {},
   "source": [
    "Для проверки зависимостей продаж от различных показателей, необходимо избавиться от выбросов. Будем использовать межквартильный диапазон."
   ]
  },
  {
   "cell_type": "code",
   "execution_count": 27,
   "id": "6a140781",
   "metadata": {},
   "outputs": [],
   "source": [
    "Q1 = df['Sales_in_thousands'].quantile(q=.25)\n",
    "Q3 = df['Sales_in_thousands'].quantile(q=.75)\n",
    "IQR = Q3 - Q1\n",
    "lower = Q1 - 1.5 * IQR\n",
    "upper = Q3 + 1.5 * IQR"
   ]
  },
  {
   "cell_type": "code",
   "execution_count": 28,
   "id": "d3d0d0cf",
   "metadata": {},
   "outputs": [],
   "source": [
    "upper_array = np.where(df['Sales_in_thousands'] >= upper)[0]\n",
    "lower_array = np.where(df['Sales_in_thousands'] <= lower)[0]\n",
    " \n",
    "df.drop(index=upper_array, inplace=True)\n",
    "df.drop(index=lower_array, inplace=True)"
   ]
  },
  {
   "cell_type": "code",
   "execution_count": 29,
   "id": "e615f912",
   "metadata": {},
   "outputs": [
    {
     "data": {
      "text/plain": [
       "(145, 8)"
      ]
     },
     "execution_count": 29,
     "metadata": {},
     "output_type": "execute_result"
    }
   ],
   "source": [
    "df.shape"
   ]
  },
  {
   "cell_type": "code",
   "execution_count": 30,
   "id": "a5aa9af8",
   "metadata": {},
   "outputs": [
    {
     "data": {
      "text/plain": [
       "Text(0.5, 1.0, 'Продажи в зависимости от объёма ДВС')"
      ]
     },
     "execution_count": 30,
     "metadata": {},
     "output_type": "execute_result"
    },
    {
     "data": {
      "image/png": "[encoded data removed]",
      "text/plain": [
       "<Figure size 640x480 with 1 Axes>"
      ]
     },
     "metadata": {},
     "output_type": "display_data"
    }
   ],
   "source": [
    "sns.scatterplot(x='Engine_size', y='Sales_in_thousands', data=df, color='red')\n",
    "plt.xlabel('Объём двигателя, л.')\n",
    "plt.ylabel('Продажи, тыс. шт.')\n",
    "plt.title('Продажи в зависимости от объёма ДВС', size=12, weight=600)"
   ]
  },
  {
   "cell_type": "code",
   "execution_count": 31,
   "id": "9957e104",
   "metadata": {},
   "outputs": [
    {
     "ename": "NameError",
     "evalue": "name 'df_clean' is not defined",
     "output_type": "error",
     "traceback": [
      "\u001b[1;31m---------------------------------------------------------------------------\u001b[0m",
      "\u001b[1;31mNameError\u001b[0m                                 Traceback (most recent call last)",
      "Cell \u001b[1;32mIn[31], line 1\u001b[0m\n\u001b[1;32m----> 1\u001b[0m sns\u001b[38;5;241m.\u001b[39mscatterplot(x\u001b[38;5;241m=\u001b[39m\u001b[38;5;124m'\u001b[39m\u001b[38;5;124mFuel_efficiency\u001b[39m\u001b[38;5;124m'\u001b[39m, y\u001b[38;5;241m=\u001b[39m\u001b[38;5;124m'\u001b[39m\u001b[38;5;124mSales_in_thousands\u001b[39m\u001b[38;5;124m'\u001b[39m, data\u001b[38;5;241m=\u001b[39mdf_clean, color\u001b[38;5;241m=\u001b[39m\u001b[38;5;124m'\u001b[39m\u001b[38;5;124mgreen\u001b[39m\u001b[38;5;124m'\u001b[39m)\n\u001b[0;32m      2\u001b[0m plt\u001b[38;5;241m.\u001b[39mxlabel(\u001b[38;5;124m'\u001b[39m\u001b[38;5;124mСредний расход топлива, л/100 км\u001b[39m\u001b[38;5;124m'\u001b[39m)\n\u001b[0;32m      3\u001b[0m plt\u001b[38;5;241m.\u001b[39mylabel(\u001b[38;5;124m'\u001b[39m\u001b[38;5;124mПродажи, тыс. шт.\u001b[39m\u001b[38;5;124m'\u001b[39m)\n",
      "\u001b[1;31mNameError\u001b[0m: name 'df_clean' is not defined"
     ]
    }
   ],
   "source": [
    "sns.scatterplot(x='Fuel_efficiency', y='Sales_in_thousands', data=df_clean, color='green')\n",
    "plt.xlabel('Средний расход топлива, л/100 км')\n",
    "plt.ylabel('Продажи, тыс. шт.')\n",
    "plt.title('Продажи в зависимости от расхода топлива', size=12, weight=600)"
   ]
  },
  {
   "cell_type": "code",
   "execution_count": 32,
   "id": "4d78e8d0",
   "metadata": {},
   "outputs": [
    {
     "data": {
      "text/plain": [
       "Text(0.5, 1.0, 'Продажи в зависимости от цены')"
      ]
     },
     "execution_count": 32,
     "metadata": {},
     "output_type": "execute_result"
    },
    {
     "data": {
      "image/png": "[encoded data removed]",
      "text/plain": [
       "<Figure size 640x480 with 1 Axes>"
      ]
     },
     "metadata": {},
     "output_type": "display_data"
    }
   ],
   "source": [
    "sns.scatterplot(x='Price_in_thousands', y='Sales_in_thousands', data=df, color='blue')\n",
    "plt.xlabel('Цена, тыс. $')\n",
    "plt.ylabel('Продажи, тыс. шт.')\n",
    "plt.title('Продажи в зависимости от цены', size=12, weight=600)"
   ]
  },
  {
   "cell_type": "markdown",
   "id": "ebb120f3",
   "metadata": {},
   "source": [
    "По трём приведённым диаграммам видно, что объём двигателя и расход топлива сщественно не влияют на количество продаж, а ключевым показателем является цена автомобиля (наибольшее количество продаж имеют модели в ценовом диапазоне 15-25 тыс. $).<br>\n",
    "Проверим это численно."
   ]
  },
  {
   "cell_type": "code",
   "execution_count": 33,
   "id": "d88a3d71",
   "metadata": {},
   "outputs": [
    {
     "data": {
      "text/plain": [
       "-0.07263079878775838"
      ]
     },
     "execution_count": 33,
     "metadata": {},
     "output_type": "execute_result"
    }
   ],
   "source": [
    "# Корреляция кол-во продаж / объём ДВС\n",
    "df['Engine_size'].corr(df['Sales_in_thousands'])"
   ]
  },
  {
   "cell_type": "code",
   "execution_count": 34,
   "id": "7e17c687",
   "metadata": {},
   "outputs": [
    {
     "data": {
      "text/plain": [
       "-0.10505302655363742"
      ]
     },
     "execution_count": 34,
     "metadata": {},
     "output_type": "execute_result"
    }
   ],
   "source": [
    "# Корреляция кол-во продаж / расход топлива\n",
    "df['Sales_in_thousands'].corr(df['Fuel_efficiency'])"
   ]
  },
  {
   "cell_type": "code",
   "execution_count": 35,
   "id": "abeeece5",
   "metadata": {},
   "outputs": [
    {
     "data": {
      "text/plain": [
       "-0.42236726370338756"
      ]
     },
     "execution_count": 35,
     "metadata": {},
     "output_type": "execute_result"
    }
   ],
   "source": [
    "# Корреляция кол-во продаж / цена\n",
    "df['Sales_in_thousands'].corr(df['Price_in_thousands'])"
   ]
  },
  {
   "cell_type": "markdown",
   "id": "15eeeca7",
   "metadata": {},
   "source": [
    "Как видим из показателей корреляции, объём двигателя и средний расход топлива слабо влияют на популярность модели автомобиля, ключевым фактором является цена."
   ]
  }
 ],
 "metadata": {
  "kernelspec": {
   "display_name": "Python 3 (ipykernel)",
   "language": "python",
   "name": "python3"
  },
  "language_info": {
   "codemirror_mode": {
    "name": "ipython",
    "version": 3
   },
   "file_extension": ".py",
   "mimetype": "text/x-python",
   "name": "python",
   "nbconvert_exporter": "python",
   "pygments_lexer": "ipython3",
   "version": "3.11.5"
  }
 },
 "nbformat": 4,
 "nbformat_minor": 5
}
